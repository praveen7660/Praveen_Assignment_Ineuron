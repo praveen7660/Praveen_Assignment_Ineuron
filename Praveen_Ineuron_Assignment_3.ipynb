{
 "cells": [
  {
   "cell_type": "markdown",
   "id": "2db9d371",
   "metadata": {},
   "source": [
    "1. Why are functions advantageous to have in your programs?\n",
    "\n",
    "Answer: Functions helps us toh avoid repeation of code and thus make it fexible to code.\n",
    "    like for example we can Write a function to find prime number within a certain range. and call the function again to get the result inspite of writing the code again and again. "
   ]
  },
  {
   "cell_type": "markdown",
   "id": "a1e8e865",
   "metadata": {},
   "source": [
    "2. When does the code in a function run: when it's specified or when it's called?\n",
    " Answer : function only get executed after it's called."
   ]
  },
  {
   "cell_type": "markdown",
   "id": "aed6cf62",
   "metadata": {},
   "source": [
    "3. What statement creates a function?\n",
    "Answer: def keyword helps us to create a function\n",
    "    for example: def func(args):"
   ]
  },
  {
   "cell_type": "markdown",
   "id": "882bbfc6",
   "metadata": {},
   "source": [
    "4. What is the difference between a function and a function call?\n",
    "Answer: Function is the certain piece of code which could be reused and help us to follow Don't repeat yourself principle whereas function call is calling the function to execute. As long as we didn't make the function call, function won't execute."
   ]
  },
  {
   "cell_type": "markdown",
   "id": "0a623c05",
   "metadata": {},
   "source": [
    "5. How many global scopes are there in a Python program? How many local scopes?\n",
    "Answer: Only 1 global scopes  whereas unlimited local scopes depending on the nature of code."
   ]
  },
  {
   "cell_type": "markdown",
   "id": "db2191b3",
   "metadata": {},
   "source": [
    "6. What happens to variables in a local scope when the function call returns?\n",
    "Answer: It get Erased off from the stack and all the local variables get destroyed."
   ]
  },
  {
   "cell_type": "markdown",
   "id": "2c0155d0",
   "metadata": {},
   "source": [
    "7. What is the concept of a return value? Is it possible to have a return value in an expression?\n",
    "Answer: Return keyword is used to end the execution of the current function and returns the result of the function to the caller. Yes,it possible to have a return value in an expression. "
   ]
  },
  {
   "cell_type": "markdown",
   "id": "1b793c06",
   "metadata": {},
   "source": [
    "8. If a function does not have a return statement, what is the return value of a call to that function?\n",
    "Answer: In that case the return value is undefined and function execute the last statement of the function and returns to the caller"
   ]
  },
  {
   "cell_type": "markdown",
   "id": "12741109",
   "metadata": {},
   "source": [
    "9. How do you make a function variable refer to the global variable?\n",
    "Answer: We can refer to global variable using the global keyword."
   ]
  },
  {
   "cell_type": "markdown",
   "id": "34555ddd",
   "metadata": {},
   "source": [
    "10. What is the data type of None?\n",
    "Answer: Data Type of None is NoneType."
   ]
  },
  {
   "cell_type": "markdown",
   "id": "e518bd0e",
   "metadata": {},
   "source": [
    "11. What does the sentence import areallyourpetsnamederic do?\n",
    "Answer: It will look for the same in the current working directory and then look for the same in the python module and if it exists it will import the module areallyourpetsnamederic module the after python will execute it."
   ]
  },
  {
   "cell_type": "markdown",
   "id": "e11dba4b",
   "metadata": {},
   "source": [
    "12. If you had a bacon() feature in a spam module, what would you call it after importing spam?\n",
    "Answer: We can call it like spam.beacon()."
   ]
  },
  {
   "cell_type": "markdown",
   "id": "1e48962a",
   "metadata": {},
   "source": [
    "13. What can you do to save a programme from crashing if it encounters an error?\n",
    "Answer: We can Use Exception Handling to avoid from crashing."
   ]
  },
  {
   "cell_type": "markdown",
   "id": "ccc5787e",
   "metadata": {},
   "source": [
    "14. What is the purpose of the try clause? What is the purpose of the except clause?\n",
    "Answer: try and except clause is used as an exception handling block .The try block lets you test a block of code for any errors thrown at runtime whereas the except block lets you handle the error. "
   ]
  }
 ],
 "metadata": {
  "kernelspec": {
   "display_name": "Python 3 (ipykernel)",
   "language": "python",
   "name": "python3"
  },
  "language_info": {
   "codemirror_mode": {
    "name": "ipython",
    "version": 3
   },
   "file_extension": ".py",
   "mimetype": "text/x-python",
   "name": "python",
   "nbconvert_exporter": "python",
   "pygments_lexer": "ipython3",
   "version": "3.9.7"
  }
 },
 "nbformat": 4,
 "nbformat_minor": 5
}
