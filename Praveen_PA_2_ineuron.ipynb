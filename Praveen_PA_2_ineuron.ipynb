{
 "cells": [
  {
   "cell_type": "code",
   "execution_count": 2,
   "id": "17be0d83",
   "metadata": {},
   "outputs": [
    {
     "name": "stdout",
     "output_type": "stream",
     "text": [
      "Enter Number od Kilometers:: 5\n",
      "3.106855\n"
     ]
    }
   ],
   "source": [
    "# 1.\tWrite a Python program to convert kilometers to miles?\n",
    "kilo = int(input(\"Enter Number Kilometers:: \"))\n",
    "miles = kilo * 0.621371\n",
    "print(miles)"
   ]
  },
  {
   "cell_type": "code",
   "execution_count": 3,
   "id": "937e10e9",
   "metadata": {},
   "outputs": [
    {
     "name": "stdout",
     "output_type": "stream",
     "text": [
      "Enter Number od Kilometers:: 3\n",
      "37.4\n"
     ]
    }
   ],
   "source": [
    "# 2.\tWrite a Python program to convert Celsius to Fahrenheit?\n",
    "Cel = int(input(\"Enter Number Celsius:: \"))\n",
    "Feh = (1*Cel * 9/5) + 32\n",
    "print(Feh)"
   ]
  },
  {
   "cell_type": "code",
   "execution_count": 3,
   "id": "3bf3a2d3",
   "metadata": {},
   "outputs": [
    {
     "name": "stdout",
     "output_type": "stream",
     "text": [
      "Enter Year => 2022\n",
      "Enter Month => 7\n",
      "       July 2022\n",
      "Mo Tu We Th Fr Sa Su\n",
      "             1  2  3\n",
      " 4  5  6  7  8  9 10\n",
      "11 12 13 14 15 16 17\n",
      "18 19 20 21 22 23 24\n",
      "25 26 27 28 29 30 31\n",
      "\n"
     ]
    }
   ],
   "source": [
    "# 3.\tWrite a Python program to display calendar?\n",
    "import calendar\n",
    "\n",
    "year = int(input(\"Enter Year => \"))\n",
    "\n",
    "month = int(input(\"Enter Month => \"))\n",
    "\n",
    "Calendar = calendar.month(year,month)\n",
    "\n",
    "print(\" \",Calendar)\n"
   ]
  },
  {
   "cell_type": "code",
   "execution_count": 1,
   "id": "0ab44727",
   "metadata": {},
   "outputs": [
    {
     "name": "stdout",
     "output_type": "stream",
     "text": [
      "Enter the Value a : 3\n",
      "Enter the Value b : 5\n",
      "Enter the Value c : -7\n",
      "Quadratic Equation Will be => 3x^2 + 5x + c\n",
      "\n",
      "The roots of the quadratic equation will be (-2.5733844181517584+0j) (0.9067177514850918+0j)\n"
     ]
    }
   ],
   "source": [
    "# 4.\tWrite a Python program to solve quadratic equation?\n",
    "import cmath\n",
    "a = int(input(\"Enter the Value a : \"))\n",
    "b = int(input(\"Enter the Value b : \"))\n",
    "c = int(input(\"Enter the Value c : \"))\n",
    "\n",
    "print(f\"Quadratic Equation Will be => {a}x^2 + {b}x + c\\n\")\n",
    "\n",
    "d = (b**2) - (4*a*c)\n",
    "\n",
    "ans1 = (-b-cmath.sqrt(d))/(2*a)\n",
    "ans2 = (-b+cmath.sqrt(d))/(2*a)\n",
    "\n",
    "print('The roots of the quadratic equation will be',ans1 ,ans2)"
   ]
  },
  {
   "cell_type": "code",
   "execution_count": 2,
   "id": "d14dfbd7",
   "metadata": {},
   "outputs": [
    {
     "name": "stdout",
     "output_type": "stream",
     "text": [
      "Enter the value of a: 4\n",
      "Enter the value of b :7\n",
      "After Swapping a :  7\n",
      "After Swapping b :  4\n"
     ]
    }
   ],
   "source": [
    "# 5.\tWrite a Python program to swap two variables without temp variable?\n",
    "a = int(input(\"Enter the value of a: \"))\n",
    "b = int(input(\"Enter the value of b :\"))\n",
    "\n",
    "# swapping\n",
    "a = a + b\n",
    "b = a - b\n",
    "a = a - b\n",
    "\n",
    "print(\"After Swapping a : \",a)\n",
    "print(\"After Swapping b : \",b)"
   ]
  },
  {
   "cell_type": "code",
   "execution_count": null,
   "id": "9de24af1",
   "metadata": {},
   "outputs": [],
   "source": []
  }
 ],
 "metadata": {
  "kernelspec": {
   "display_name": "Python 3 (ipykernel)",
   "language": "python",
   "name": "python3"
  },
  "language_info": {
   "codemirror_mode": {
    "name": "ipython",
    "version": 3
   },
   "file_extension": ".py",
   "mimetype": "text/x-python",
   "name": "python",
   "nbconvert_exporter": "python",
   "pygments_lexer": "ipython3",
   "version": "3.9.7"
  }
 },
 "nbformat": 4,
 "nbformat_minor": 5
}
