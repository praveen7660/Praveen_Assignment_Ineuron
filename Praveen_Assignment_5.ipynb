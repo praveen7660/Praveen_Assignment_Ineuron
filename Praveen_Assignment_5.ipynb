{
 "cells": [
  {
   "cell_type": "markdown",
   "id": "c846f021",
   "metadata": {},
   "source": [
    "# Praveen Tiwari \n",
    "# Assignment 5"
   ]
  },
  {
   "cell_type": "code",
   "execution_count": null,
   "id": "c76ad76d",
   "metadata": {},
   "outputs": [],
   "source": [
    "1. What does an empty dictionary's code look like?\n",
    "Answer: dic = {}"
   ]
  },
  {
   "cell_type": "code",
   "execution_count": null,
   "id": "d1513bbf",
   "metadata": {},
   "outputs": [],
   "source": [
    "2. What is the value of a dictionary value with the key 'foo' and the value 42?\n",
    "Answer: {'foo':42}"
   ]
  },
  {
   "cell_type": "code",
   "execution_count": null,
   "id": "39434ed0",
   "metadata": {},
   "outputs": [],
   "source": [
    "3. What is the most significant distinction between a dictionary and a list?\n",
    "Answer:1. in List directly values are stored whereas in dictionary key-value pairs are stored \n",
    "    2. Items stored in list are ordered whereas Items stored in dictionary are unordered."
   ]
  },
  {
   "cell_type": "code",
   "execution_count": null,
   "id": "3ccad66c",
   "metadata": {},
   "outputs": [],
   "source": [
    "4. What happens if you try to access spam['foo'] if spam is {'bar': 100}?\n",
    "Answer: it will give a key error as no such key as 'foo' exists "
   ]
  },
  {
   "cell_type": "code",
   "execution_count": null,
   "id": "861575a9",
   "metadata": {},
   "outputs": [],
   "source": [
    "5. If a dictionary is stored in spam, what is the difference between \n",
    "the expressions 'cat' in spam and 'cat' in spam.keys()?\n",
    "Answer: There is no difference both statement will evalute to true. \n",
    "    As both statement checks whether a 'cat' is a key  of the dictionary spam or not ."
   ]
  },
  {
   "cell_type": "code",
   "execution_count": null,
   "id": "37c77440",
   "metadata": {},
   "outputs": [],
   "source": [
    "6. If a dictionary is stored in spam, what is the difference \n",
    "between the expressions 'cat' in spam and 'cat' in spam.values()?\n",
    "Answer: 'cat' in spam :- Will check the as the keys in the dictionary spam i.e it will evaluates to true\n",
    "         'cat' in spam.values() will check in the values of the dictionary spam i.e it will evaluates to false"
   ]
  },
  {
   "cell_type": "code",
   "execution_count": null,
   "id": "44853c87",
   "metadata": {},
   "outputs": [],
   "source": [
    "7. What is a shortcut for the following code?\n",
    "if 'color' not in spam:\n",
    "spam['color'] = 'black'\n",
    "\n",
    "Answer: spam.setdefault('color','black') "
   ]
  },
  {
   "cell_type": "code",
   "execution_count": null,
   "id": "d73d6931",
   "metadata": {},
   "outputs": [],
   "source": [
    "8. How do you \"pretty print\" dictionary values using which module and function?\n",
    "Answer:\n",
    "we can import pprint module and pprint.pprint()\n",
    "\n",
    "example:-\n",
    "    \n",
    "pprint.pprint()"
   ]
  }
 ],
 "metadata": {
  "kernelspec": {
   "display_name": "Python 3 (ipykernel)",
   "language": "python",
   "name": "python3"
  },
  "language_info": {
   "codemirror_mode": {
    "name": "ipython",
    "version": 3
   },
   "file_extension": ".py",
   "mimetype": "text/x-python",
   "name": "python",
   "nbconvert_exporter": "python",
   "pygments_lexer": "ipython3",
   "version": "3.9.7"
  }
 },
 "nbformat": 4,
 "nbformat_minor": 5
}
