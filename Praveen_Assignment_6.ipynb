{
 "cells": [
  {
   "cell_type": "markdown",
   "id": "8c7f7389",
   "metadata": {},
   "source": [
    "# Praveen Tiwari\n",
    "# Assignment 6"
   ]
  },
  {
   "cell_type": "code",
   "execution_count": null,
   "id": "3af7f89c",
   "metadata": {},
   "outputs": [],
   "source": [
    "1. What are escape characters, and how do you use them?\n",
    "\n",
    "Answer: Escape Characters are special characters in the \n",
    "    string values that would otherwise be impossible to code "
   ]
  },
  {
   "cell_type": "code",
   "execution_count": null,
   "id": "9efc996c",
   "metadata": {},
   "outputs": [],
   "source": [
    "2. What do the escape characters n and t stand for?\n",
    "\n",
    "Answer: \\n push the cursor to a newline \n",
    "        \\t gives a tab space"
   ]
  },
  {
   "cell_type": "code",
   "execution_count": null,
   "id": "9161860a",
   "metadata": {},
   "outputs": [],
   "source": [
    "3. What is the way to include backslash characters in a string?\n",
    "\n",
    "Answer: We can use \\\\ to include backslash character like \n",
    "     Example:-   '\\\\n' or '//t'"
   ]
  },
  {
   "cell_type": "code",
   "execution_count": null,
   "id": "5eaf2711",
   "metadata": {},
   "outputs": [],
   "source": [
    "4. The string \"Howl's Moving Castle\" is a correct value. \n",
    "Why isn't the single quote character in the word Howl's not escaped a problem?\n",
    "\n",
    "Answer: Its working fine because you've enclosed the string within\" \" double quotes"
   ]
  },
  {
   "cell_type": "code",
   "execution_count": null,
   "id": "83820034",
   "metadata": {},
   "outputs": [],
   "source": [
    "5. How do you write a string of newlines if you don't want to use the n character?\n",
    "\n",
    "Answer: We can Use Multiline string \n",
    "for example :-\n",
    "    Prvn = \"\"\"\n",
    "            Sudhanshu Sir \n",
    "            \n",
    "            rocks\n",
    "            \n",
    "            -By Praveen\n",
    "    \n",
    "             \"\"\""
   ]
  },
  {
   "cell_type": "code",
   "execution_count": null,
   "id": "80c999c3",
   "metadata": {},
   "outputs": [],
   "source": [
    "6. What are the values of the given expressions?\n",
    "'Hello, world!'[1]\n",
    "Answer: 'e'\n",
    "    \n",
    "'Hello, world!'[0:5]\n",
    "Answer: 'Hello'\n",
    "    \n",
    "    \n",
    "'Hello, world!'[:5]\n",
    "Answer: 'Hello'\n",
    "    \n",
    "    \n",
    "'Hello, world!'[3:]\n",
    "Answer: 'lo, world!'\n"
   ]
  },
  {
   "cell_type": "code",
   "execution_count": null,
   "id": "fdff31d5",
   "metadata": {},
   "outputs": [],
   "source": [
    "7. What are the values of the following expressions?\n",
    "'Hello'.upper()\n",
    "Answer: 'HELLO' \n",
    "    \n",
    "    \n",
    "'Hello'.upper().isupper()\n",
    "Answer: True\n",
    "    \n",
    "    \n",
    "'Hello'.upper().lower()\n",
    "Answer: 'hello'\n"
   ]
  },
  {
   "cell_type": "code",
   "execution_count": null,
   "id": "ce8e46be",
   "metadata": {},
   "outputs": [],
   "source": [
    "8. What are the values of the following expressions?\n",
    "'Remember, remember, the fifth of July.'.split()\n",
    "\n",
    "Answer: ['Remember','remember','the','fifth','of','July.']\n",
    "    \n",
    "    '-'.join('There can only one.'.split())\n",
    "    \n",
    "Answer: 'There-can-only-one.'"
   ]
  },
  {
   "cell_type": "code",
   "execution_count": null,
   "id": "22fbd2f8",
   "metadata": {},
   "outputs": [],
   "source": [
    "9. What are the methods for right-justifying, left-justifying, and centering a string?\n",
    "\n",
    "Answer: right-justifying => rjust()\n",
    "    left-justifying => ljust()\n",
    "    centering =>center()"
   ]
  },
  {
   "cell_type": "code",
   "execution_count": null,
   "id": "154da39b",
   "metadata": {},
   "outputs": [],
   "source": [
    "10. What is the best way to remove whitespace characters from the start or end?\n",
    "Answer: lstrip() and rstrip() this method remove whitespace from left and right ends of string "
   ]
  }
 ],
 "metadata": {
  "kernelspec": {
   "display_name": "Python 3 (ipykernel)",
   "language": "python",
   "name": "python3"
  },
  "language_info": {
   "codemirror_mode": {
    "name": "ipython",
    "version": 3
   },
   "file_extension": ".py",
   "mimetype": "text/x-python",
   "name": "python",
   "nbconvert_exporter": "python",
   "pygments_lexer": "ipython3",
   "version": "3.9.7"
  }
 },
 "nbformat": 4,
 "nbformat_minor": 5
}
