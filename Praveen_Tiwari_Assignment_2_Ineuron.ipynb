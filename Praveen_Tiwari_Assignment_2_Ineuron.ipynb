{
 "cells": [
  {
   "cell_type": "markdown",
   "id": "160a96f3",
   "metadata": {},
   "source": [
    "# Assignment 2\n",
    "# Praveen Tiwari"
   ]
  },
  {
   "cell_type": "markdown",
   "id": "1eacdb6f",
   "metadata": {},
   "source": [
    "1.What are the two values of the Boolean data type? How do you write them?\n",
    "Answer:\n",
    "    True and False\n",
    "    we can write them as true or False\n",
    "Example: Troop = False"
   ]
  },
  {
   "cell_type": "markdown",
   "id": "3e14204e",
   "metadata": {},
   "source": [
    "2. What are the three different types of Boolean operators?\n",
    "And operator:\n",
    "Or Operator\n",
    "Not operator"
   ]
  },
  {
   "cell_type": "markdown",
   "id": "fcc0ae1e",
   "metadata": {},
   "source": [
    "3. Make a list of each Boolean operator's truth tables (i.e. every possible combination of Boolean\n",
    "values for the operator and what it evaluate ).\n",
    "Answer\n",
    "\n",
    "AND\n",
    "1 0 0\n",
    "0 1 0\n",
    "0 0 0\n",
    "1 1 1\n",
    "\n",
    "OR\n",
    "1 0 1\n",
    "0 1 1\n",
    "0 0 0\n",
    "1 1 1\n",
    "\n",
    "NOT \n",
    "1 0\n",
    "0 1\n"
   ]
  },
  {
   "cell_type": "markdown",
   "id": "da38782e",
   "metadata": {},
   "source": [
    "4. What are the values of the following expressions?\n",
    "(5 > 4) and (3 == 5)\n",
    "Answer: False\n",
    "    \n",
    "not (5 > 4)\n",
    "ANswer: False\n",
    "    \n",
    "(5 > 4) or (3 == 5)\n",
    "ANswer: True\n",
    "    \n",
    "not ((5 > 4) or (3 == 5))\n",
    "Answer: False\n",
    "    \n",
    "(True and True) and (True == False)\n",
    "Answer: False\n",
    "    \n",
    "(not False) or (not True)\n",
    "Answer:True\n",
    "    "
   ]
  },
  {
   "cell_type": "markdown",
   "id": "9d0da10d",
   "metadata": {},
   "source": [
    "5. What are the six comparison operators?\n",
    "Answer: The Six Comaprison Operators are \n",
    "1. ==\n",
    "2. >\n",
    "3. <\n",
    "4. >=\n",
    "5.<=\n",
    "6. !="
   ]
  },
  {
   "cell_type": "markdown",
   "id": "fc9d7e59",
   "metadata": {},
   "source": [
    "6. How do you tell the difference between the equal to and assignment operators?Describe a\n",
    "condition and when you would use one.\n",
    "Answer:\n",
    "    Assignment(=) Operator is used for the assignment a certain value to a certain variable\n",
    "    like a = 10 \n",
    "    Whereas Equal to operator is used for the comaprison.\n",
    "    like a ==b here a is comapred with b\n"
   ]
  },
  {
   "cell_type": "markdown",
   "id": "3bb21b49",
   "metadata": {},
   "source": [
    "7. Identify the three blocks in this code:\n",
    "spam = 0\n",
    "if spam == 10:\n",
    "print('eggs')\n",
    "if spam > 5:\n",
    "print('bacon')\n",
    "else:\n",
    "print('ham')\n",
    "print('spam')\n",
    "print('spam')\n",
    "\n",
    "Answer: \n",
    "    First Block\n",
    "    if spam == 10:\n",
    "       print('eggs')\n",
    "    \n",
    "    Second Block\n",
    "    if spam > 5:\n",
    "        print('bacon')\n",
    "        \n",
    "    Third Block\n",
    "    else:\n",
    "        print('ham')\n",
    "\n"
   ]
  },
  {
   "cell_type": "markdown",
   "id": "b6a51864",
   "metadata": {},
   "source": [
    "#8. Write code that prints Hello if 1 is stored in spam, prints Howdy if 2 is stored in spam, and prints Greetings! if anything else is stored in spam.\n",
    "\n",
    "spam = 0\n",
    "if(spam==1):\n",
    "    print(\"Hello\")\n",
    "elif(spam==2):\n",
    "    print(\"Howdy\")\n",
    "else:\n",
    "    print(\"Greeting!\")\n"
   ]
  },
  {
   "cell_type": "markdown",
   "id": "ed4492c1",
   "metadata": {},
   "source": [
    "9.If your programme is stuck in an endless loop, what keys you’ll press?\n",
    "Answer: We have to Terminate the Programme as soon as possible,before it eats up our entire Resources\n",
    " \n",
    "We can Press = ctrl + c"
   ]
  },
  {
   "cell_type": "markdown",
   "id": "8593c264",
   "metadata": {},
   "source": [
    "10. How can you tell the difference between break and continue?\n",
    "Answer: \n",
    "Break\n",
    "Break Statement Breaks the Entire loop and Exists\n",
    "\n",
    "continue:\n",
    "   Continue statement skips that iteration and executes the next iteration"
   ]
  },
  {
   "cell_type": "markdown",
   "id": "78c8e0aa",
   "metadata": {},
   "source": [
    "11. In a for loop, what is the difference between range(10), range(0, 10), and range(0, 10, 1)?\n",
    "Answer:There is no difference in output all 3 loop will iterate from 0 to 9. "
   ]
  },
  {
   "cell_type": "markdown",
   "id": "fd65ac72",
   "metadata": {},
   "source": [
    "#12. Write a short program that prints the numbers 1 to 10 using a for loop. Then write an equivalent program that prints the numbers 1 to 10 using a while loop.\n",
    "#Answer: \n",
    "#using for loop\n",
    "\n",
    "for i in range(1,11):\n",
    "    print(i)\n",
    "    \n",
    "i = 1    \n",
    "while(i<=10):\n",
    "    print(i)\n",
    "    i = i+1"
   ]
  },
  {
   "cell_type": "markdown",
   "id": "ede7af94",
   "metadata": {},
   "source": [
    "13. If you had a function named bacon() inside a module named spam, how would you call it after importing spam?\n",
    "Answer: We can Access the function beacon() using :\n",
    "        spam.bacon()"
   ]
  }
 ],
 "metadata": {
  "kernelspec": {
   "display_name": "Python 3 (ipykernel)",
   "language": "python",
   "name": "python3"
  },
  "language_info": {
   "codemirror_mode": {
    "name": "ipython",
    "version": 3
   },
   "file_extension": ".py",
   "mimetype": "text/x-python",
   "name": "python",
   "nbconvert_exporter": "python",
   "pygments_lexer": "ipython3",
   "version": "3.9.7"
  }
 },
 "nbformat": 4,
 "nbformat_minor": 5
}
