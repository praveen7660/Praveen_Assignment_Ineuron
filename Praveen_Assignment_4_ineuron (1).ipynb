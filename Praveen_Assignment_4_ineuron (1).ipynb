{
 "cells": [
  {
   "cell_type": "markdown",
   "id": "4eaa733b",
   "metadata": {},
   "source": [
    "# Praveen Tiwari\n",
    "# Assignment 4"
   ]
  },
  {
   "cell_type": "code",
   "execution_count": null,
   "id": "f8c2b577",
   "metadata": {},
   "outputs": [],
   "source": [
    "1. What exactly is []?\n",
    "Answer: An Empty List\n"
   ]
  },
  {
   "cell_type": "code",
   "execution_count": null,
   "id": "f04283c2",
   "metadata": {},
   "outputs": [],
   "source": [
    "2. In a list of values stored in a variable called spam, how would you assign the value 'hello' as the third value? (Assume [2, 4, 6, 8, 10] are in spam.)\n",
    "\n",
    "Answer: we can use spam.insert(2,'hello') to insert as third value"
   ]
  },
  {
   "cell_type": "code",
   "execution_count": null,
   "id": "09fdaeae",
   "metadata": {},
   "outputs": [],
   "source": [
    "Let's pretend the spam includes the list ['a', 'b', 'c', 'd'] for the next three queries.\n",
    "3. What is the value of spam[int(int('3' * 2) / 11)]?\n",
    "Answer: In inner most parathesis 3 is string multiplied it will result into 33 \n",
    "    and 33/11 will result into 3 \n",
    "    and at 3rd index in the list is d \n",
    "    so final answer will be 'd'.\n"
   ]
  },
  {
   "cell_type": "code",
   "execution_count": null,
   "id": "7aee6af9",
   "metadata": {},
   "outputs": [],
   "source": [
    "4. What is the value of spam[-1]?\n",
    "Answer: It will be 'd'"
   ]
  },
  {
   "cell_type": "code",
   "execution_count": null,
   "id": "14794d5d",
   "metadata": {},
   "outputs": [],
   "source": [
    "5. What is the value of spam[:2]?\n",
    "Answer: 'a' 'b'"
   ]
  },
  {
   "cell_type": "code",
   "execution_count": null,
   "id": "7c57cffb",
   "metadata": {},
   "outputs": [],
   "source": [
    "Let's pretend bacon has the list [3.14, 'cat,' 11, 'cat,' True] for the next three questions.\n",
    "\n",
    "6. What is the value of bacon.index('cat')?\n",
    "Answer: index will be 1\n"
   ]
  },
  {
   "cell_type": "code",
   "execution_count": null,
   "id": "42491b6c",
   "metadata": {},
   "outputs": [],
   "source": [
    "7. How does bacon.append(99) change the look of the list value in bacon?\n",
    "Answer: 99 will be added at the end "
   ]
  },
  {
   "cell_type": "code",
   "execution_count": null,
   "id": "a9705ae7",
   "metadata": {},
   "outputs": [],
   "source": [
    "8. How does bacon.remove('cat') change the look of the list in bacon?\n",
    "Answer: It will remove the first occurance of string 'cat'"
   ]
  },
  {
   "cell_type": "code",
   "execution_count": null,
   "id": "6d2c562e",
   "metadata": {},
   "outputs": [],
   "source": [
    "9. What are the list concatenation and list replication operators?\n",
    "Answer: Operator for concatenation is  : +\n",
    "        Operator for replication is  : *\n",
    "        "
   ]
  },
  {
   "cell_type": "code",
   "execution_count": null,
   "id": "5813b8ae",
   "metadata": {},
   "outputs": [],
   "source": [
    "10. What is difference between the list methods append() and insert()?\n",
    "Answer : Append method will add element at the end of the list \n",
    "        insert() inserts element at the specified location given."
   ]
  },
  {
   "cell_type": "code",
   "execution_count": null,
   "id": "c3eb4f22",
   "metadata": {},
   "outputs": [],
   "source": [
    "11. What are the two methods for removing items from a list?\n",
    "Answer: 1.remove()  \n",
    "        2.del()"
   ]
  },
  {
   "cell_type": "code",
   "execution_count": null,
   "id": "3c6130f2",
   "metadata": {},
   "outputs": [],
   "source": [
    "12. Describe how list values and string values are identical.\n",
    "Answer: Similiar triats \n",
    "    1.Index slicing\n",
    "    2. concatination\n",
    "    3.replication\n",
    "    4.could be iterated using loop\n",
    "    5.we can find length using len()"
   ]
  },
  {
   "cell_type": "code",
   "execution_count": null,
   "id": "86564db0",
   "metadata": {},
   "outputs": [],
   "source": [
    "13. What's the difference between tuples and lists?\n",
    "Answer:Lists are mutable thats its elements could be deleted and can be changed \n",
    "    whereas tuples are immutable that is changes and deletion is not possible"
   ]
  },
  {
   "cell_type": "code",
   "execution_count": null,
   "id": "e0670c77",
   "metadata": {},
   "outputs": [],
   "source": [
    "14. How do you type a tuple value that only contains the integer 42?\n",
    "Answer: like this => \n",
    "    tuple = (42,)"
   ]
  },
  {
   "cell_type": "code",
   "execution_count": null,
   "id": "d8a2a35c",
   "metadata": {},
   "outputs": [],
   "source": [
    "15. How do you get a list value's tuple form? How do you get a tuple value's list form?\n",
    "\n",
    "Answer: We can simply typeCast the list to a tuple or vice-a-versa. \n",
    "    list to tuple => tuple(list_name)\n",
    "    tuple to list => list(tuple_name)"
   ]
  },
  {
   "cell_type": "code",
   "execution_count": null,
   "id": "9366ad20",
   "metadata": {},
   "outputs": [],
   "source": [
    "16. Variables that \"contain\" list values are not necessarily lists themselves. Instead, what do they contain?\n",
    "Answer: the variable that contain list value has a reference to the list"
   ]
  },
  {
   "cell_type": "code",
   "execution_count": null,
   "id": "bb3750b8",
   "metadata": {},
   "outputs": [],
   "source": [
    "17. How do you distinguish between copy.copy() and copy.deepcopy()?\n",
    "Answer: copy.copy() it will do a shallow copy that is it creates new variable but make them point to the original list whereas copy.deepcopy() will do a deep copy that is it will create entirely new copy of the list. "
   ]
  }
 ],
 "metadata": {
  "kernelspec": {
   "display_name": "Python 3 (ipykernel)",
   "language": "python",
   "name": "python3"
  },
  "language_info": {
   "codemirror_mode": {
    "name": "ipython",
    "version": 3
   },
   "file_extension": ".py",
   "mimetype": "text/x-python",
   "name": "python",
   "nbconvert_exporter": "python",
   "pygments_lexer": "ipython3",
   "version": "3.9.7"
  }
 },
 "nbformat": 4,
 "nbformat_minor": 5
}
