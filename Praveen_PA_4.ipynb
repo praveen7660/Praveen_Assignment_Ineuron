{
 "cells": [
  {
   "cell_type": "code",
   "execution_count": 5,
   "id": "cde57f38",
   "metadata": {},
   "outputs": [
    {
     "name": "stdout",
     "output_type": "stream",
     "text": [
      "Enter the number: 5\n",
      "120\n"
     ]
    }
   ],
   "source": [
    "# 1.\tWrite a Python Program to Find the Factorial of a Number?\n",
    "\n",
    "n = int(input(\"Enter the number: \"))\n",
    "sum = 1\n",
    "while(n>0):\n",
    "    sum = sum * n\n",
    "    n = n-1\n",
    "    \n",
    "print(sum)\n"
   ]
  },
  {
   "cell_type": "code",
   "execution_count": 6,
   "id": "f27b42b7",
   "metadata": {},
   "outputs": [
    {
     "name": "stdout",
     "output_type": "stream",
     "text": [
      "Enter the number: 5\n",
      "5 X 1 = 5\n",
      "5 X 2 = 10\n",
      "5 X 3 = 15\n",
      "5 X 4 = 20\n",
      "5 X 5 = 25\n",
      "5 X 6 = 30\n",
      "5 X 7 = 35\n",
      "5 X 8 = 40\n",
      "5 X 9 = 45\n",
      "5 X 10 = 50\n"
     ]
    }
   ],
   "source": [
    "# 2.\tWrite a Python Program to Display the multiplication Table?\n",
    "n = int(input(\"Enter the number: \"))\n",
    "count =1\n",
    "while(count<=10):\n",
    "    print(f\"{n} X {count} =\",n*count)\n",
    "    count = count+1"
   ]
  },
  {
   "cell_type": "code",
   "execution_count": 20,
   "id": "154cece0",
   "metadata": {},
   "outputs": [
    {
     "name": "stdout",
     "output_type": "stream",
     "text": [
      "Enter the number: 5\n",
      "0\n",
      "1\n",
      "1\n",
      "2\n",
      "3\n"
     ]
    }
   ],
   "source": [
    "# 3.\tWrite a Python Program to Print the Fibonacci sequence?\n",
    "num = int(input(\"Enter the number: \"))\n",
    "n1,n2 = 0,1\n",
    "count = 0\n",
    "\n",
    "for i in range(0,n):\n",
    "    print(n1)\n",
    "    n1,n2 = n2,n2+n1"
   ]
  },
  {
   "cell_type": "code",
   "execution_count": 3,
   "id": "31e914a0",
   "metadata": {},
   "outputs": [
    {
     "name": "stdout",
     "output_type": "stream",
     "text": [
      "Enter the number 153\n",
      "Yes!! its an Armstrong number\n"
     ]
    }
   ],
   "source": [
    "# 4.\tWrite a Python Program to Check Armstrong Number?\n",
    "n = int(input(\"Enter the number \"))\n",
    "sum_v = 0\n",
    "temp = n\n",
    "\n",
    "while(temp>0):\n",
    "    remainder = temp%10\n",
    "    sum_v += remainder**3\n",
    "    temp = temp//10\n",
    "    \n",
    "if(sum_v == n):\n",
    "    print(\"Yes!! its an Armstrong number\")\n",
    "else:\n",
    "    print(\"Nopes!!, its not an Armstrong number\")"
   ]
  },
  {
   "cell_type": "code",
   "execution_count": 2,
   "id": "07150800",
   "metadata": {},
   "outputs": [
    {
     "name": "stdout",
     "output_type": "stream",
     "text": [
      "Enter the lower bound: 1\n",
      "Enter the Upper bound: 500\n",
      "1\n",
      "153\n",
      "370\n",
      "371\n",
      "407\n"
     ]
    }
   ],
   "source": [
    "# 5.\tWrite a Python Program to Find Armstrong Number in an Interval?\n",
    "\n",
    "def Armstrong(n):\n",
    "    sum_v = 0\n",
    "    temp = n\n",
    "\n",
    "    while(temp>0):\n",
    "        remainder = temp%10\n",
    "        sum_v += remainder**3\n",
    "        temp = temp//10\n",
    "    \n",
    "    if(sum_v == n):\n",
    "        return True\n",
    "    else:\n",
    "        return False\n",
    "    \n",
    "lower = int(input(\"Enter the lower bound: \"))\n",
    "upper = int(input(\"Enter the Upper bound: \"))\n",
    "\n",
    "for i in range(lower,upper+1):\n",
    "    if(Armstrong(i)):\n",
    "        print(i)\n",
    "        "
   ]
  },
  {
   "cell_type": "code",
   "execution_count": 2,
   "id": "7cf75203",
   "metadata": {},
   "outputs": [
    {
     "name": "stdout",
     "output_type": "stream",
     "text": [
      "Enter the number 12\n",
      "78.0\n"
     ]
    }
   ],
   "source": [
    "# 6.\tWrite a Python Program to Find the Sum of Natural Numbers?\n",
    "n = int(input(\"Enter the number \"))\n",
    "\n",
    "print((n*(n+1))/2)\n"
   ]
  },
  {
   "cell_type": "code",
   "execution_count": null,
   "id": "eb6eac87",
   "metadata": {},
   "outputs": [],
   "source": []
  }
 ],
 "metadata": {
  "kernelspec": {
   "display_name": "Python 3 (ipykernel)",
   "language": "python",
   "name": "python3"
  },
  "language_info": {
   "codemirror_mode": {
    "name": "ipython",
    "version": 3
   },
   "file_extension": ".py",
   "mimetype": "text/x-python",
   "name": "python",
   "nbconvert_exporter": "python",
   "pygments_lexer": "ipython3",
   "version": "3.9.7"
  }
 },
 "nbformat": 4,
 "nbformat_minor": 5
}
