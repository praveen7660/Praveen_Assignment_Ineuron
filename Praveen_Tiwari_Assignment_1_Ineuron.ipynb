{
 "cells": [
  {
   "cell_type": "markdown",
   "id": "b655c396",
   "metadata": {},
   "source": [
    "# Assignment"
   ]
  },
  {
   "cell_type": "markdown",
   "id": "09f7f05a",
   "metadata": {},
   "source": [
    "Name:  Praveen Tiwari"
   ]
  },
  {
   "cell_type": "markdown",
   "id": "b5d6f228",
   "metadata": {},
   "source": [
    "1.In the below elements which of them are values or an expression? eg:- values can be\n",
    "integer or string and expressions will be mathematical operators."
   ]
  },
  {
   "cell_type": "markdown",
   "id": "e26a725a",
   "metadata": {},
   "source": [
    "Answer:- \n",
    "    \n",
    "Values:- \"hello\", -87.8,  6\n",
    "    \n",
    "Expression:- * - / +"
   ]
  },
  {
   "cell_type": "markdown",
   "id": "b4a97066",
   "metadata": {},
   "source": [
    "2. What is the difference between string and variable?\n"
   ]
  },
  {
   "cell_type": "markdown",
   "id": "7b77e0d0",
   "metadata": {},
   "source": [
    "Answer:\n",
    "    String: String is A built in data Type.\n",
    "        \n",
    "Variables: It a Temporary container for storage of values of any specific data type \n",
    "          like a = 10....So a is a variable here in which 10 is stored."
   ]
  },
  {
   "cell_type": "markdown",
   "id": "932d5b13",
   "metadata": {},
   "source": [
    "3. Describe three different data types.\n",
    "1. int:\n",
    "   this is a built-in data type for storing non decimal integer numbers\n",
    "   Example a = 77\n",
    "   \n",
    " 2. Float:\n",
    "    this is a built-in data type for storing decimal integer numbers\n",
    "    Example x = 77.7\n",
    "   \n",
    " 3. String[str]:\n",
    "     this is a built-in data type for storing characters and special characters Example X = \"I am Loving this Course\""
   ]
  },
  {
   "cell_type": "markdown",
   "id": "2d2d5e2d",
   "metadata": {},
   "source": [
    "4. What is an expression made up of? What do all expressions do?\n",
    "Answer: An expression consists of Operators,Constants and variables.\n",
    "        Expressions are merely a representation of values\n",
    "        for example: Z= a+b-(c*d)"
   ]
  },
  {
   "cell_type": "markdown",
   "id": "bd164560",
   "metadata": {},
   "source": [
    "5. This assignment statements, like spam = 10. What is the difference between an\n",
    "expression and a statement?\n",
    "Answer: here spam = 10 is an example of statement \n",
    "Statement: Any Logical Command or action like Assignment,Comparison,etc\n",
    "example: a = 77.78\n",
    "Expression: Expressions are merely a representation of values.ItCould be any Statement or line which make some sense.\n",
    "example: j = 3i+7j\n",
    "    ALL STATEMENTS ARE EXPRESSION BUT VICE-A-VERSA IS NOT TRUE"
   ]
  },
  {
   "cell_type": "markdown",
   "id": "8db2d801",
   "metadata": {},
   "source": [
    "6. After running the following code, what does the variable bacon contain?\n",
    "bacon = 22\n",
    "bacon + 1\n",
    "\n",
    "Answer:\n",
    "    as value was incremented by 1 but not stored or updated anywhere, answer will be 22"
   ]
  },
  {
   "cell_type": "markdown",
   "id": "cb127e46",
   "metadata": {},
   "source": [
    "7. What should the values of the following two terms be?\n",
    "'spam' + 'spamspam';\n",
    "'spam' * 3\n",
    "Answer:\n",
    "    Output will be same which is = spamspamspam"
   ]
  },
  {
   "cell_type": "markdown",
   "id": "6be856d9",
   "metadata": {},
   "source": [
    "8. Why is eggs a valid variable name while 100 is invalid?\n",
    "Answer: its invalid because as per the rules, variable must begin with either a character or an underscore nothing else would be invalid "
   ]
  },
  {
   "cell_type": "markdown",
   "id": "f67fb008",
   "metadata": {},
   "source": [
    "9. What three functions can be used to get the integer, floating-point number, or string version of a value?\n",
    "\n",
    "Answer: int(),float(),str() can be used to type cast and get the integer, floating-point number, or string version of a value.\n"
   ]
  },
  {
   "cell_type": "markdown",
   "id": "0996b45e",
   "metadata": {},
   "source": [
    "10. Why does this expression cause an error? How can you fix it?\n",
    "'I have eaten' + 99 + 'burritos'\n",
    "Answer: to concate an integer value to a string value ....you have to pass the integer value as string('99') inspite of (99) \n",
    "AS OF CORRECTION IS CONCERENED :\n",
    "    'I have eaten' + '99' + 'burritos'"
   ]
  }
 ],
 "metadata": {
  "kernelspec": {
   "display_name": "Python 3 (ipykernel)",
   "language": "python",
   "name": "python3"
  },
  "language_info": {
   "codemirror_mode": {
    "name": "ipython",
    "version": 3
   },
   "file_extension": ".py",
   "mimetype": "text/x-python",
   "name": "python",
   "nbconvert_exporter": "python",
   "pygments_lexer": "ipython3",
   "version": "3.9.7"
  }
 },
 "nbformat": 4,
 "nbformat_minor": 5
}
