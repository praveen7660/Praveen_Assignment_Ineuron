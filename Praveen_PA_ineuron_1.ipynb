{
 "cells": [
  {
   "cell_type": "markdown",
   "id": "6fece0fd",
   "metadata": {},
   "source": [
    "# Praveen Tiwari"
   ]
  },
  {
   "cell_type": "code",
   "execution_count": null,
   "id": "02660163",
   "metadata": {},
   "outputs": [],
   "source": [
    "Programming Assignment"
   ]
  },
  {
   "cell_type": "markdown",
   "id": "b5d47477",
   "metadata": {},
   "source": [
    "1.Write a Python program to print \"Hello Python\"?"
   ]
  },
  {
   "cell_type": "code",
   "execution_count": 2,
   "id": "77436182",
   "metadata": {},
   "outputs": [
    {
     "name": "stdout",
     "output_type": "stream",
     "text": [
      "Hello Python\n"
     ]
    }
   ],
   "source": [
    "print(\"Hello Python\")"
   ]
  },
  {
   "cell_type": "markdown",
   "id": "e0a6c647",
   "metadata": {},
   "source": [
    "2.\tWrite a Python program to do arithmetical operations addition and division.?"
   ]
  },
  {
   "cell_type": "code",
   "execution_count": 4,
   "id": "7390b506",
   "metadata": {},
   "outputs": [
    {
     "name": "stdout",
     "output_type": "stream",
     "text": [
      "Addition ::  15\n",
      "Division::  2.0\n"
     ]
    }
   ],
   "source": [
    "a = 10\n",
    "b = 5 \n",
    "\n",
    "print(\"Addition :: \",a+b)\n",
    "\n",
    "print(\"Division:: \",a/b)"
   ]
  },
  {
   "cell_type": "code",
   "execution_count": null,
   "id": "7d1564d2",
   "metadata": {},
   "outputs": [],
   "source": [
    "3.\tWrite a Python program to find the area of a triangle?"
   ]
  },
  {
   "cell_type": "code",
   "execution_count": 13,
   "id": "bb8008c5",
   "metadata": {},
   "outputs": [
    {
     "name": "stdout",
     "output_type": "stream",
     "text": [
      "Area Of triangle:  43.30127018922193\n"
     ]
    }
   ],
   "source": [
    "a = 10\n",
    "b = 10\n",
    "c = 10\n",
    "\n",
    "#Calculating Semi-perimeter\n",
    "\n",
    "s = (a+b+c)/2\n",
    "\n",
    "#Calculating area \n",
    "\n",
    "area = (s*(s-a)*(s-b)*(s-c)) ** 0.5\n",
    "\n",
    "print(\"Area Of triangle: \",area)"
   ]
  },
  {
   "cell_type": "code",
   "execution_count": null,
   "id": "220c8888",
   "metadata": {},
   "outputs": [],
   "source": [
    "4.\tWrite a Python program to swap two variables?"
   ]
  },
  {
   "cell_type": "code",
   "execution_count": 14,
   "id": "cc79d065",
   "metadata": {},
   "outputs": [
    {
     "name": "stdout",
     "output_type": "stream",
     "text": [
      "Values before Swapping: 10 15\n",
      "Values after 15 10\n"
     ]
    }
   ],
   "source": [
    "a = 10\n",
    "b = 15\n",
    "\n",
    "#Values before swapping\n",
    "\n",
    "print(\"Values before Swapping:\",a,b)\n",
    "\n",
    "#Swapping\n",
    "\n",
    "a,b = b,a\n",
    "\n",
    "#Values after swapping\n",
    "\n",
    "print(\"Values after\",a,b)\n"
   ]
  },
  {
   "cell_type": "code",
   "execution_count": null,
   "id": "b4d20c10",
   "metadata": {},
   "outputs": [],
   "source": [
    "5.\tWrite a Python program to generate a random number?"
   ]
  },
  {
   "cell_type": "code",
   "execution_count": 27,
   "id": "9efedec6",
   "metadata": {},
   "outputs": [
    {
     "name": "stdout",
     "output_type": "stream",
     "text": [
      "2\n"
     ]
    }
   ],
   "source": [
    "import random\n",
    "\n",
    "n = random.randint(1,1000)\n",
    "\n",
    "print(n)"
   ]
  }
 ],
 "metadata": {
  "kernelspec": {
   "display_name": "Python 3 (ipykernel)",
   "language": "python",
   "name": "python3"
  },
  "language_info": {
   "codemirror_mode": {
    "name": "ipython",
    "version": 3
   },
   "file_extension": ".py",
   "mimetype": "text/x-python",
   "name": "python",
   "nbconvert_exporter": "python",
   "pygments_lexer": "ipython3",
   "version": "3.9.7"
  }
 },
 "nbformat": 4,
 "nbformat_minor": 5
}
